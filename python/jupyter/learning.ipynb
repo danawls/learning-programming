{
 "cells": [
  {
   "cell_type": "code",
   "execution_count": 1,
   "id": "80328e9d-32d7-4a8d-981b-ac5ae44fce97",
   "metadata": {},
   "outputs": [
    {
     "name": "stdout",
     "output_type": "stream",
     "text": [
      "Hello World\n"
     ]
    }
   ],
   "source": [
    "print(\"Hello World\")"
   ]
  },
  {
   "cell_type": "code",
   "execution_count": 3,
   "id": "22e18cd6-6c9a-42bb-8281-98045a78263a",
   "metadata": {},
   "outputs": [
    {
     "name": "stdout",
     "output_type": "stream",
     "text": [
      "skrrr\n"
     ]
    }
   ],
   "source": [
    "print(\"skrrr\")"
   ]
  },
  {
   "cell_type": "code",
   "execution_count": null,
   "id": "b69b03f2-819c-4a21-942c-d202766d8461",
   "metadata": {},
   "outputs": [],
   "source": []
  }
 ],
 "metadata": {
  "kernelspec": {
   "display_name": "Python 3 (ipykernel)",
   "language": "python",
   "name": "python3"
  },
  "language_info": {
   "codemirror_mode": {
    "name": "ipython",
    "version": 3
   },
   "file_extension": ".py",
   "mimetype": "text/x-python",
   "name": "python",
   "nbconvert_exporter": "python",
   "pygments_lexer": "ipython3",
   "version": "3.12.4"
  }
 },
 "nbformat": 4,
 "nbformat_minor": 5
}
