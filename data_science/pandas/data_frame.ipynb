{
 "cells": [
  {
   "cell_type": "markdown",
   "id": "6c85944a-c108-42fc-825a-50668c02ec1c",
   "metadata": {},
   "source": [
    "# Data Frame\n",
    "2-dimentional data(bunch of the series)"
   ]
  },
  {
   "cell_type": "markdown",
   "id": "5902127d-b56b-41ea-b473-e5ba5cb7b71a",
   "metadata": {},
   "source": [
    "# prepare datas\n",
    "to make by dict data structure"
   ]
  },
  {
   "cell_type": "code",
   "id": "c7b924e1-a752-40e3-a94e-261c72b30b05",
   "metadata": {
    "ExecuteTime": {
     "end_time": "2024-07-15T15:22:58.082492Z",
     "start_time": "2024-07-15T15:22:58.076090Z"
    }
   },
   "source": [
    "data = {\n",
    "    'Name' : ['Cha Chi-soo', 'Jung Dae-man', 'Song Tae-seop', 'Seo Tae-woong', 'Kang Baek-ho', 'Byun Deok-gyu', 'Hwang Tae-san', 'Yoon Dae-hyeop'],\n",
    "    'School' : ['Buk San High', 'Buk San High', 'Buk San High', 'Buk San High', 'Buk San High', 'Neung Nam High', 'Neung Nam High', 'Neung Nam High'],\n",
    "    'Height' : [197, 184, 168, 187, 188, 202, 188, 190],\n",
    "    'Korean' : [90, 40, 80, 40, 15, 80, 55, 100],\n",
    "    'English' : [85, 35, 75, 60, 20, 100, 65, 85],\n",
    "    'Math' : [100, 50, 70, 70, 10, 95, 45, 90],\n",
    "    'Science' : [95, 55, 80, 75, 35, 85, 40, 95],\n",
    "    'Social' : [85, 25, 75, 80, 10, 80, 35, 95],\n",
    "    'SW Skill' : ['Python', 'Java', 'Javascript', '', '', 'C', 'PYTHON', 'C#']\n",
    "}\n",
    "data"
   ],
   "outputs": [
    {
     "data": {
      "text/plain": [
       "{'Name': ['Cha Chi-soo',\n",
       "  'Jung Dae-man',\n",
       "  'Song Tae-seop',\n",
       "  'Seo Tae-woong',\n",
       "  'Kang Baek-ho',\n",
       "  'Byun Deok-gyu',\n",
       "  'Hwang Tae-san',\n",
       "  'Yoon Dae-hyeop'],\n",
       " 'School': ['Buk San High',\n",
       "  'Buk San High',\n",
       "  'Buk San High',\n",
       "  'Buk San High',\n",
       "  'Buk San High',\n",
       "  'Neung Nam High',\n",
       "  'Neung Nam High',\n",
       "  'Neung Nam High'],\n",
       " 'Height': [197, 184, 168, 187, 188, 202, 188, 190],\n",
       " 'Korean': [90, 40, 80, 40, 15, 80, 55, 100],\n",
       " 'English': [85, 35, 75, 60, 20, 100, 65, 85],\n",
       " 'Math': [100, 50, 70, 70, 10, 95, 45, 90],\n",
       " 'Science': [95, 55, 80, 75, 35, 85, 40, 95],\n",
       " 'Social': [85, 25, 75, 80, 10, 80, 35, 95],\n",
       " 'SW Skill': ['Python', 'Java', 'Javascript', '', '', 'C', 'PYTHON', 'C#']}"
      ]
     },
     "execution_count": 2,
     "metadata": {},
     "output_type": "execute_result"
    }
   ],
   "execution_count": 2
  },
  {
   "cell_type": "code",
   "id": "733e143e-9cf3-4cd5-9c01-89304f7a35a8",
   "metadata": {
    "ExecuteTime": {
     "end_time": "2024-07-15T15:22:59.282498Z",
     "start_time": "2024-07-15T15:22:59.278736Z"
    }
   },
   "source": [
    "data"
   ],
   "outputs": [
    {
     "data": {
      "text/plain": [
       "{'Name': ['Cha Chi-soo',\n",
       "  'Jung Dae-man',\n",
       "  'Song Tae-seop',\n",
       "  'Seo Tae-woong',\n",
       "  'Kang Baek-ho',\n",
       "  'Byun Deok-gyu',\n",
       "  'Hwang Tae-san',\n",
       "  'Yoon Dae-hyeop'],\n",
       " 'School': ['Buk San High',\n",
       "  'Buk San High',\n",
       "  'Buk San High',\n",
       "  'Buk San High',\n",
       "  'Buk San High',\n",
       "  'Neung Nam High',\n",
       "  'Neung Nam High',\n",
       "  'Neung Nam High'],\n",
       " 'Height': [197, 184, 168, 187, 188, 202, 188, 190],\n",
       " 'Korean': [90, 40, 80, 40, 15, 80, 55, 100],\n",
       " 'English': [85, 35, 75, 60, 20, 100, 65, 85],\n",
       " 'Math': [100, 50, 70, 70, 10, 95, 45, 90],\n",
       " 'Science': [95, 55, 80, 75, 35, 85, 40, 95],\n",
       " 'Social': [85, 25, 75, 80, 10, 80, 35, 95],\n",
       " 'SW Skill': ['Python', 'Java', 'Javascript', '', '', 'C', 'PYTHON', 'C#']}"
      ]
     },
     "execution_count": 3,
     "metadata": {},
     "output_type": "execute_result"
    }
   ],
   "execution_count": 3
  },
  {
   "cell_type": "code",
   "id": "3b402105-8a80-4f12-9751-409ddab39ca9",
   "metadata": {
    "ExecuteTime": {
     "end_time": "2024-07-15T15:22:59.905406Z",
     "start_time": "2024-07-15T15:22:59.902634Z"
    }
   },
   "source": [
    "data[\"Name\"]"
   ],
   "outputs": [
    {
     "data": {
      "text/plain": [
       "['Cha Chi-soo',\n",
       " 'Jung Dae-man',\n",
       " 'Song Tae-seop',\n",
       " 'Seo Tae-woong',\n",
       " 'Kang Baek-ho',\n",
       " 'Byun Deok-gyu',\n",
       " 'Hwang Tae-san',\n",
       " 'Yoon Dae-hyeop']"
      ]
     },
     "execution_count": 4,
     "metadata": {},
     "output_type": "execute_result"
    }
   ],
   "execution_count": 4
  },
  {
   "cell_type": "code",
   "id": "f8ecf72d-a048-4f3e-b6a2-b8a071b1bbd6",
   "metadata": {
    "ExecuteTime": {
     "end_time": "2024-07-15T15:23:00.539409Z",
     "start_time": "2024-07-15T15:23:00.536895Z"
    }
   },
   "source": [
    "data[\"Height\"]"
   ],
   "outputs": [
    {
     "data": {
      "text/plain": [
       "[197, 184, 168, 187, 188, 202, 188, 190]"
      ]
     },
     "execution_count": 5,
     "metadata": {},
     "output_type": "execute_result"
    }
   ],
   "execution_count": 5
  },
  {
   "cell_type": "markdown",
   "id": "4cc98007-03ab-403d-bd37-c5f1c1635437",
   "metadata": {},
   "source": [
    "# making a data frame object"
   ]
  },
  {
   "cell_type": "code",
   "id": "188cac0b-6bd1-4cd3-ada2-481fe9b92d56",
   "metadata": {
    "ExecuteTime": {
     "end_time": "2024-07-15T15:23:02.515710Z",
     "start_time": "2024-07-15T15:23:01.911885Z"
    }
   },
   "source": [
    "import pandas as pd\n",
    "df = pd.DataFrame(data)"
   ],
   "outputs": [],
   "execution_count": 6
  },
  {
   "cell_type": "code",
   "id": "7bf9cbea-7395-428b-a326-036b8930cec6",
   "metadata": {
    "ExecuteTime": {
     "end_time": "2024-07-15T15:23:02.652413Z",
     "start_time": "2024-07-15T15:23:02.646436Z"
    }
   },
   "source": [
    "df"
   ],
   "outputs": [
    {
     "data": {
      "text/plain": [
       "             Name          School  Height  Korean  English  Math  Science  \\\n",
       "0     Cha Chi-soo    Buk San High     197      90       85   100       95   \n",
       "1    Jung Dae-man    Buk San High     184      40       35    50       55   \n",
       "2   Song Tae-seop    Buk San High     168      80       75    70       80   \n",
       "3   Seo Tae-woong    Buk San High     187      40       60    70       75   \n",
       "4    Kang Baek-ho    Buk San High     188      15       20    10       35   \n",
       "5   Byun Deok-gyu  Neung Nam High     202      80      100    95       85   \n",
       "6   Hwang Tae-san  Neung Nam High     188      55       65    45       40   \n",
       "7  Yoon Dae-hyeop  Neung Nam High     190     100       85    90       95   \n",
       "\n",
       "   Social    SW Skill  \n",
       "0      85      Python  \n",
       "1      25        Java  \n",
       "2      75  Javascript  \n",
       "3      80              \n",
       "4      10              \n",
       "5      80           C  \n",
       "6      35      PYTHON  \n",
       "7      95          C#  "
      ],
      "text/html": [
       "<div>\n",
       "<style scoped>\n",
       "    .dataframe tbody tr th:only-of-type {\n",
       "        vertical-align: middle;\n",
       "    }\n",
       "\n",
       "    .dataframe tbody tr th {\n",
       "        vertical-align: top;\n",
       "    }\n",
       "\n",
       "    .dataframe thead th {\n",
       "        text-align: right;\n",
       "    }\n",
       "</style>\n",
       "<table border=\"1\" class=\"dataframe\">\n",
       "  <thead>\n",
       "    <tr style=\"text-align: right;\">\n",
       "      <th></th>\n",
       "      <th>Name</th>\n",
       "      <th>School</th>\n",
       "      <th>Height</th>\n",
       "      <th>Korean</th>\n",
       "      <th>English</th>\n",
       "      <th>Math</th>\n",
       "      <th>Science</th>\n",
       "      <th>Social</th>\n",
       "      <th>SW Skill</th>\n",
       "    </tr>\n",
       "  </thead>\n",
       "  <tbody>\n",
       "    <tr>\n",
       "      <th>0</th>\n",
       "      <td>Cha Chi-soo</td>\n",
       "      <td>Buk San High</td>\n",
       "      <td>197</td>\n",
       "      <td>90</td>\n",
       "      <td>85</td>\n",
       "      <td>100</td>\n",
       "      <td>95</td>\n",
       "      <td>85</td>\n",
       "      <td>Python</td>\n",
       "    </tr>\n",
       "    <tr>\n",
       "      <th>1</th>\n",
       "      <td>Jung Dae-man</td>\n",
       "      <td>Buk San High</td>\n",
       "      <td>184</td>\n",
       "      <td>40</td>\n",
       "      <td>35</td>\n",
       "      <td>50</td>\n",
       "      <td>55</td>\n",
       "      <td>25</td>\n",
       "      <td>Java</td>\n",
       "    </tr>\n",
       "    <tr>\n",
       "      <th>2</th>\n",
       "      <td>Song Tae-seop</td>\n",
       "      <td>Buk San High</td>\n",
       "      <td>168</td>\n",
       "      <td>80</td>\n",
       "      <td>75</td>\n",
       "      <td>70</td>\n",
       "      <td>80</td>\n",
       "      <td>75</td>\n",
       "      <td>Javascript</td>\n",
       "    </tr>\n",
       "    <tr>\n",
       "      <th>3</th>\n",
       "      <td>Seo Tae-woong</td>\n",
       "      <td>Buk San High</td>\n",
       "      <td>187</td>\n",
       "      <td>40</td>\n",
       "      <td>60</td>\n",
       "      <td>70</td>\n",
       "      <td>75</td>\n",
       "      <td>80</td>\n",
       "      <td></td>\n",
       "    </tr>\n",
       "    <tr>\n",
       "      <th>4</th>\n",
       "      <td>Kang Baek-ho</td>\n",
       "      <td>Buk San High</td>\n",
       "      <td>188</td>\n",
       "      <td>15</td>\n",
       "      <td>20</td>\n",
       "      <td>10</td>\n",
       "      <td>35</td>\n",
       "      <td>10</td>\n",
       "      <td></td>\n",
       "    </tr>\n",
       "    <tr>\n",
       "      <th>5</th>\n",
       "      <td>Byun Deok-gyu</td>\n",
       "      <td>Neung Nam High</td>\n",
       "      <td>202</td>\n",
       "      <td>80</td>\n",
       "      <td>100</td>\n",
       "      <td>95</td>\n",
       "      <td>85</td>\n",
       "      <td>80</td>\n",
       "      <td>C</td>\n",
       "    </tr>\n",
       "    <tr>\n",
       "      <th>6</th>\n",
       "      <td>Hwang Tae-san</td>\n",
       "      <td>Neung Nam High</td>\n",
       "      <td>188</td>\n",
       "      <td>55</td>\n",
       "      <td>65</td>\n",
       "      <td>45</td>\n",
       "      <td>40</td>\n",
       "      <td>35</td>\n",
       "      <td>PYTHON</td>\n",
       "    </tr>\n",
       "    <tr>\n",
       "      <th>7</th>\n",
       "      <td>Yoon Dae-hyeop</td>\n",
       "      <td>Neung Nam High</td>\n",
       "      <td>190</td>\n",
       "      <td>100</td>\n",
       "      <td>85</td>\n",
       "      <td>90</td>\n",
       "      <td>95</td>\n",
       "      <td>95</td>\n",
       "      <td>C#</td>\n",
       "    </tr>\n",
       "  </tbody>\n",
       "</table>\n",
       "</div>"
      ]
     },
     "execution_count": 7,
     "metadata": {},
     "output_type": "execute_result"
    }
   ],
   "execution_count": 7
  },
  {
   "cell_type": "markdown",
   "id": "abd3db77-9099-4ae4-8845-db9ad3d832ff",
   "metadata": {},
   "source": [
    "# access to data"
   ]
  },
  {
   "cell_type": "code",
   "id": "2ab16dbf-401e-4512-bebf-ea68eec98cd9",
   "metadata": {
    "ExecuteTime": {
     "end_time": "2024-07-15T15:23:04.640513Z",
     "start_time": "2024-07-15T15:23:04.636346Z"
    }
   },
   "source": [
    "df[\"Name\"]"
   ],
   "outputs": [
    {
     "data": {
      "text/plain": [
       "0       Cha Chi-soo\n",
       "1      Jung Dae-man\n",
       "2     Song Tae-seop\n",
       "3     Seo Tae-woong\n",
       "4      Kang Baek-ho\n",
       "5     Byun Deok-gyu\n",
       "6     Hwang Tae-san\n",
       "7    Yoon Dae-hyeop\n",
       "Name: Name, dtype: object"
      ]
     },
     "execution_count": 8,
     "metadata": {},
     "output_type": "execute_result"
    }
   ],
   "execution_count": 8
  },
  {
   "cell_type": "code",
   "id": "f518b5b1-5145-49c7-b74a-1bd037980c3c",
   "metadata": {
    "ExecuteTime": {
     "end_time": "2024-07-15T15:23:05.451426Z",
     "start_time": "2024-07-15T15:23:05.445379Z"
    }
   },
   "source": [
    "df[[\"Name\", \"Height\"]]"
   ],
   "outputs": [
    {
     "data": {
      "text/plain": [
       "             Name  Height\n",
       "0     Cha Chi-soo     197\n",
       "1    Jung Dae-man     184\n",
       "2   Song Tae-seop     168\n",
       "3   Seo Tae-woong     187\n",
       "4    Kang Baek-ho     188\n",
       "5   Byun Deok-gyu     202\n",
       "6   Hwang Tae-san     188\n",
       "7  Yoon Dae-hyeop     190"
      ],
      "text/html": [
       "<div>\n",
       "<style scoped>\n",
       "    .dataframe tbody tr th:only-of-type {\n",
       "        vertical-align: middle;\n",
       "    }\n",
       "\n",
       "    .dataframe tbody tr th {\n",
       "        vertical-align: top;\n",
       "    }\n",
       "\n",
       "    .dataframe thead th {\n",
       "        text-align: right;\n",
       "    }\n",
       "</style>\n",
       "<table border=\"1\" class=\"dataframe\">\n",
       "  <thead>\n",
       "    <tr style=\"text-align: right;\">\n",
       "      <th></th>\n",
       "      <th>Name</th>\n",
       "      <th>Height</th>\n",
       "    </tr>\n",
       "  </thead>\n",
       "  <tbody>\n",
       "    <tr>\n",
       "      <th>0</th>\n",
       "      <td>Cha Chi-soo</td>\n",
       "      <td>197</td>\n",
       "    </tr>\n",
       "    <tr>\n",
       "      <th>1</th>\n",
       "      <td>Jung Dae-man</td>\n",
       "      <td>184</td>\n",
       "    </tr>\n",
       "    <tr>\n",
       "      <th>2</th>\n",
       "      <td>Song Tae-seop</td>\n",
       "      <td>168</td>\n",
       "    </tr>\n",
       "    <tr>\n",
       "      <th>3</th>\n",
       "      <td>Seo Tae-woong</td>\n",
       "      <td>187</td>\n",
       "    </tr>\n",
       "    <tr>\n",
       "      <th>4</th>\n",
       "      <td>Kang Baek-ho</td>\n",
       "      <td>188</td>\n",
       "    </tr>\n",
       "    <tr>\n",
       "      <th>5</th>\n",
       "      <td>Byun Deok-gyu</td>\n",
       "      <td>202</td>\n",
       "    </tr>\n",
       "    <tr>\n",
       "      <th>6</th>\n",
       "      <td>Hwang Tae-san</td>\n",
       "      <td>188</td>\n",
       "    </tr>\n",
       "    <tr>\n",
       "      <th>7</th>\n",
       "      <td>Yoon Dae-hyeop</td>\n",
       "      <td>190</td>\n",
       "    </tr>\n",
       "  </tbody>\n",
       "</table>\n",
       "</div>"
      ]
     },
     "execution_count": 9,
     "metadata": {},
     "output_type": "execute_result"
    }
   ],
   "execution_count": 9
  },
  {
   "cell_type": "markdown",
   "id": "bd2f0118-3260-4259-bfde-b2f0453b490c",
   "metadata": {},
   "source": [
    "# making data frame object(by indexing)"
   ]
  },
  {
   "cell_type": "code",
   "id": "38853ee8-1cf8-4936-9426-6852a62cd624",
   "metadata": {
    "ExecuteTime": {
     "end_time": "2024-07-15T15:23:06.981509Z",
     "start_time": "2024-07-15T15:23:06.978337Z"
    }
   },
   "source": [
    "df = pd.DataFrame(data, index=[\"one\", \"two\", \"three\", \"four\", \"five\", \"six\", \"seven\", \"eight\"])"
   ],
   "outputs": [],
   "execution_count": 10
  },
  {
   "cell_type": "code",
   "id": "770c86fd-26e0-4a4b-b4ae-5a6f46831a8a",
   "metadata": {
    "ExecuteTime": {
     "end_time": "2024-07-15T15:23:07.725603Z",
     "start_time": "2024-07-15T15:23:07.721430Z"
    }
   },
   "source": [
    "df"
   ],
   "outputs": [
    {
     "data": {
      "text/plain": [
       "                 Name          School  Height  Korean  English  Math  Science  \\\n",
       "one       Cha Chi-soo    Buk San High     197      90       85   100       95   \n",
       "two      Jung Dae-man    Buk San High     184      40       35    50       55   \n",
       "three   Song Tae-seop    Buk San High     168      80       75    70       80   \n",
       "four    Seo Tae-woong    Buk San High     187      40       60    70       75   \n",
       "five     Kang Baek-ho    Buk San High     188      15       20    10       35   \n",
       "six     Byun Deok-gyu  Neung Nam High     202      80      100    95       85   \n",
       "seven   Hwang Tae-san  Neung Nam High     188      55       65    45       40   \n",
       "eight  Yoon Dae-hyeop  Neung Nam High     190     100       85    90       95   \n",
       "\n",
       "       Social    SW Skill  \n",
       "one        85      Python  \n",
       "two        25        Java  \n",
       "three      75  Javascript  \n",
       "four       80              \n",
       "five       10              \n",
       "six        80           C  \n",
       "seven      35      PYTHON  \n",
       "eight      95          C#  "
      ],
      "text/html": [
       "<div>\n",
       "<style scoped>\n",
       "    .dataframe tbody tr th:only-of-type {\n",
       "        vertical-align: middle;\n",
       "    }\n",
       "\n",
       "    .dataframe tbody tr th {\n",
       "        vertical-align: top;\n",
       "    }\n",
       "\n",
       "    .dataframe thead th {\n",
       "        text-align: right;\n",
       "    }\n",
       "</style>\n",
       "<table border=\"1\" class=\"dataframe\">\n",
       "  <thead>\n",
       "    <tr style=\"text-align: right;\">\n",
       "      <th></th>\n",
       "      <th>Name</th>\n",
       "      <th>School</th>\n",
       "      <th>Height</th>\n",
       "      <th>Korean</th>\n",
       "      <th>English</th>\n",
       "      <th>Math</th>\n",
       "      <th>Science</th>\n",
       "      <th>Social</th>\n",
       "      <th>SW Skill</th>\n",
       "    </tr>\n",
       "  </thead>\n",
       "  <tbody>\n",
       "    <tr>\n",
       "      <th>one</th>\n",
       "      <td>Cha Chi-soo</td>\n",
       "      <td>Buk San High</td>\n",
       "      <td>197</td>\n",
       "      <td>90</td>\n",
       "      <td>85</td>\n",
       "      <td>100</td>\n",
       "      <td>95</td>\n",
       "      <td>85</td>\n",
       "      <td>Python</td>\n",
       "    </tr>\n",
       "    <tr>\n",
       "      <th>two</th>\n",
       "      <td>Jung Dae-man</td>\n",
       "      <td>Buk San High</td>\n",
       "      <td>184</td>\n",
       "      <td>40</td>\n",
       "      <td>35</td>\n",
       "      <td>50</td>\n",
       "      <td>55</td>\n",
       "      <td>25</td>\n",
       "      <td>Java</td>\n",
       "    </tr>\n",
       "    <tr>\n",
       "      <th>three</th>\n",
       "      <td>Song Tae-seop</td>\n",
       "      <td>Buk San High</td>\n",
       "      <td>168</td>\n",
       "      <td>80</td>\n",
       "      <td>75</td>\n",
       "      <td>70</td>\n",
       "      <td>80</td>\n",
       "      <td>75</td>\n",
       "      <td>Javascript</td>\n",
       "    </tr>\n",
       "    <tr>\n",
       "      <th>four</th>\n",
       "      <td>Seo Tae-woong</td>\n",
       "      <td>Buk San High</td>\n",
       "      <td>187</td>\n",
       "      <td>40</td>\n",
       "      <td>60</td>\n",
       "      <td>70</td>\n",
       "      <td>75</td>\n",
       "      <td>80</td>\n",
       "      <td></td>\n",
       "    </tr>\n",
       "    <tr>\n",
       "      <th>five</th>\n",
       "      <td>Kang Baek-ho</td>\n",
       "      <td>Buk San High</td>\n",
       "      <td>188</td>\n",
       "      <td>15</td>\n",
       "      <td>20</td>\n",
       "      <td>10</td>\n",
       "      <td>35</td>\n",
       "      <td>10</td>\n",
       "      <td></td>\n",
       "    </tr>\n",
       "    <tr>\n",
       "      <th>six</th>\n",
       "      <td>Byun Deok-gyu</td>\n",
       "      <td>Neung Nam High</td>\n",
       "      <td>202</td>\n",
       "      <td>80</td>\n",
       "      <td>100</td>\n",
       "      <td>95</td>\n",
       "      <td>85</td>\n",
       "      <td>80</td>\n",
       "      <td>C</td>\n",
       "    </tr>\n",
       "    <tr>\n",
       "      <th>seven</th>\n",
       "      <td>Hwang Tae-san</td>\n",
       "      <td>Neung Nam High</td>\n",
       "      <td>188</td>\n",
       "      <td>55</td>\n",
       "      <td>65</td>\n",
       "      <td>45</td>\n",
       "      <td>40</td>\n",
       "      <td>35</td>\n",
       "      <td>PYTHON</td>\n",
       "    </tr>\n",
       "    <tr>\n",
       "      <th>eight</th>\n",
       "      <td>Yoon Dae-hyeop</td>\n",
       "      <td>Neung Nam High</td>\n",
       "      <td>190</td>\n",
       "      <td>100</td>\n",
       "      <td>85</td>\n",
       "      <td>90</td>\n",
       "      <td>95</td>\n",
       "      <td>95</td>\n",
       "      <td>C#</td>\n",
       "    </tr>\n",
       "  </tbody>\n",
       "</table>\n",
       "</div>"
      ]
     },
     "execution_count": 11,
     "metadata": {},
     "output_type": "execute_result"
    }
   ],
   "execution_count": 11
  },
  {
   "cell_type": "markdown",
   "id": "bf55af34-97f4-46d9-9c63-211b7c1d4339",
   "metadata": {},
   "source": [
    "# by column selecting"
   ]
  },
  {
   "cell_type": "code",
   "id": "abf721ea-d272-433d-8dfa-1b0b12b2c976",
   "metadata": {
    "ExecuteTime": {
     "end_time": "2024-07-15T15:23:09.450340Z",
     "start_time": "2024-07-15T15:23:09.447155Z"
    }
   },
   "source": [
    "df = pd.DataFrame(data, columns=[\"Name\", \"School\", \"Height\", \"SW Skill\"])"
   ],
   "outputs": [],
   "execution_count": 12
  },
  {
   "cell_type": "code",
   "id": "c5c05f7b-8a8d-4be9-87fe-fd45852de9c9",
   "metadata": {
    "ExecuteTime": {
     "end_time": "2024-07-15T15:23:10.451354Z",
     "start_time": "2024-07-15T15:23:10.447909Z"
    }
   },
   "source": [
    "df"
   ],
   "outputs": [
    {
     "data": {
      "text/plain": [
       "             Name          School  Height    SW Skill\n",
       "0     Cha Chi-soo    Buk San High     197      Python\n",
       "1    Jung Dae-man    Buk San High     184        Java\n",
       "2   Song Tae-seop    Buk San High     168  Javascript\n",
       "3   Seo Tae-woong    Buk San High     187            \n",
       "4    Kang Baek-ho    Buk San High     188            \n",
       "5   Byun Deok-gyu  Neung Nam High     202           C\n",
       "6   Hwang Tae-san  Neung Nam High     188      PYTHON\n",
       "7  Yoon Dae-hyeop  Neung Nam High     190          C#"
      ],
      "text/html": [
       "<div>\n",
       "<style scoped>\n",
       "    .dataframe tbody tr th:only-of-type {\n",
       "        vertical-align: middle;\n",
       "    }\n",
       "\n",
       "    .dataframe tbody tr th {\n",
       "        vertical-align: top;\n",
       "    }\n",
       "\n",
       "    .dataframe thead th {\n",
       "        text-align: right;\n",
       "    }\n",
       "</style>\n",
       "<table border=\"1\" class=\"dataframe\">\n",
       "  <thead>\n",
       "    <tr style=\"text-align: right;\">\n",
       "      <th></th>\n",
       "      <th>Name</th>\n",
       "      <th>School</th>\n",
       "      <th>Height</th>\n",
       "      <th>SW Skill</th>\n",
       "    </tr>\n",
       "  </thead>\n",
       "  <tbody>\n",
       "    <tr>\n",
       "      <th>0</th>\n",
       "      <td>Cha Chi-soo</td>\n",
       "      <td>Buk San High</td>\n",
       "      <td>197</td>\n",
       "      <td>Python</td>\n",
       "    </tr>\n",
       "    <tr>\n",
       "      <th>1</th>\n",
       "      <td>Jung Dae-man</td>\n",
       "      <td>Buk San High</td>\n",
       "      <td>184</td>\n",
       "      <td>Java</td>\n",
       "    </tr>\n",
       "    <tr>\n",
       "      <th>2</th>\n",
       "      <td>Song Tae-seop</td>\n",
       "      <td>Buk San High</td>\n",
       "      <td>168</td>\n",
       "      <td>Javascript</td>\n",
       "    </tr>\n",
       "    <tr>\n",
       "      <th>3</th>\n",
       "      <td>Seo Tae-woong</td>\n",
       "      <td>Buk San High</td>\n",
       "      <td>187</td>\n",
       "      <td></td>\n",
       "    </tr>\n",
       "    <tr>\n",
       "      <th>4</th>\n",
       "      <td>Kang Baek-ho</td>\n",
       "      <td>Buk San High</td>\n",
       "      <td>188</td>\n",
       "      <td></td>\n",
       "    </tr>\n",
       "    <tr>\n",
       "      <th>5</th>\n",
       "      <td>Byun Deok-gyu</td>\n",
       "      <td>Neung Nam High</td>\n",
       "      <td>202</td>\n",
       "      <td>C</td>\n",
       "    </tr>\n",
       "    <tr>\n",
       "      <th>6</th>\n",
       "      <td>Hwang Tae-san</td>\n",
       "      <td>Neung Nam High</td>\n",
       "      <td>188</td>\n",
       "      <td>PYTHON</td>\n",
       "    </tr>\n",
       "    <tr>\n",
       "      <th>7</th>\n",
       "      <td>Yoon Dae-hyeop</td>\n",
       "      <td>Neung Nam High</td>\n",
       "      <td>190</td>\n",
       "      <td>C#</td>\n",
       "    </tr>\n",
       "  </tbody>\n",
       "</table>\n",
       "</div>"
      ]
     },
     "execution_count": 13,
     "metadata": {},
     "output_type": "execute_result"
    }
   ],
   "execution_count": 13
  },
  {
   "cell_type": "code",
   "execution_count": null,
   "id": "1c02e6e2-c1c4-4784-ab25-11431199b48f",
   "metadata": {},
   "outputs": [],
   "source": []
  }
 ],
 "metadata": {
  "kernelspec": {
   "display_name": "Python 3 (ipykernel)",
   "language": "python",
   "name": "python3"
  },
  "language_info": {
   "codemirror_mode": {
    "name": "ipython",
    "version": 3
   },
   "file_extension": ".py",
   "mimetype": "text/x-python",
   "name": "python",
   "nbconvert_exporter": "python",
   "pygments_lexer": "ipython3",
   "version": "3.12.4"
  }
 },
 "nbformat": 4,
 "nbformat_minor": 5
}
