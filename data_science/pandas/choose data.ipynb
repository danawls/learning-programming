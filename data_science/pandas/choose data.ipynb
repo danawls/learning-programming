{
 "cells": [
  {
   "metadata": {},
   "cell_type": "markdown",
   "source": "# choose data (basic)",
   "id": "38fc1f0309dcef99"
  },
  {
   "metadata": {
    "ExecuteTime": {
     "end_time": "2024-07-14T01:18:05.059793Z",
     "start_time": "2024-07-14T01:18:04.916369Z"
    }
   },
   "cell_type": "code",
   "source": [
    "import pandas as pd\n",
    "df = pd.read_csv(\"score.csv\")\n",
    "df"
   ],
   "id": "b54703ffc2f0e9dd",
   "outputs": [
    {
     "data": {
      "text/plain": [
       "   number            Name          School  Height  Korean  English  Math  \\\n",
       "0       1     Cha Chi-soo    Buk San High     197      90       85   100   \n",
       "1       2    Jung Dae-man    Buk San High     184      40       35    50   \n",
       "2       3   Song Tae-seop    Buk San High     168      80       75    70   \n",
       "3       4   Seo Tae-woong    Buk San High     187      40       60    70   \n",
       "4       5    Kang Baek-ho    Buk San High     188      15       20    10   \n",
       "5       6   Byun Deok-gyu  Neung Nam High     202      80      100    95   \n",
       "6       7   Hwang Tae-san  Neung Nam High     188      55       65    45   \n",
       "7       8  Yoon Dae-hyeop  Neung Nam High     190     100       85    90   \n",
       "\n",
       "   Science  Social    SW Skill  \n",
       "0       95      85      Python  \n",
       "1       55      25        Java  \n",
       "2       80      75  Javascript  \n",
       "3       75      80         NaN  \n",
       "4       35      10         NaN  \n",
       "5       85      80           C  \n",
       "6       40      35      PYTHON  \n",
       "7       95      95          C#  "
      ],
      "text/html": [
       "<div>\n",
       "<style scoped>\n",
       "    .dataframe tbody tr th:only-of-type {\n",
       "        vertical-align: middle;\n",
       "    }\n",
       "\n",
       "    .dataframe tbody tr th {\n",
       "        vertical-align: top;\n",
       "    }\n",
       "\n",
       "    .dataframe thead th {\n",
       "        text-align: right;\n",
       "    }\n",
       "</style>\n",
       "<table border=\"1\" class=\"dataframe\">\n",
       "  <thead>\n",
       "    <tr style=\"text-align: right;\">\n",
       "      <th></th>\n",
       "      <th>number</th>\n",
       "      <th>Name</th>\n",
       "      <th>School</th>\n",
       "      <th>Height</th>\n",
       "      <th>Korean</th>\n",
       "      <th>English</th>\n",
       "      <th>Math</th>\n",
       "      <th>Science</th>\n",
       "      <th>Social</th>\n",
       "      <th>SW Skill</th>\n",
       "    </tr>\n",
       "  </thead>\n",
       "  <tbody>\n",
       "    <tr>\n",
       "      <th>0</th>\n",
       "      <td>1</td>\n",
       "      <td>Cha Chi-soo</td>\n",
       "      <td>Buk San High</td>\n",
       "      <td>197</td>\n",
       "      <td>90</td>\n",
       "      <td>85</td>\n",
       "      <td>100</td>\n",
       "      <td>95</td>\n",
       "      <td>85</td>\n",
       "      <td>Python</td>\n",
       "    </tr>\n",
       "    <tr>\n",
       "      <th>1</th>\n",
       "      <td>2</td>\n",
       "      <td>Jung Dae-man</td>\n",
       "      <td>Buk San High</td>\n",
       "      <td>184</td>\n",
       "      <td>40</td>\n",
       "      <td>35</td>\n",
       "      <td>50</td>\n",
       "      <td>55</td>\n",
       "      <td>25</td>\n",
       "      <td>Java</td>\n",
       "    </tr>\n",
       "    <tr>\n",
       "      <th>2</th>\n",
       "      <td>3</td>\n",
       "      <td>Song Tae-seop</td>\n",
       "      <td>Buk San High</td>\n",
       "      <td>168</td>\n",
       "      <td>80</td>\n",
       "      <td>75</td>\n",
       "      <td>70</td>\n",
       "      <td>80</td>\n",
       "      <td>75</td>\n",
       "      <td>Javascript</td>\n",
       "    </tr>\n",
       "    <tr>\n",
       "      <th>3</th>\n",
       "      <td>4</td>\n",
       "      <td>Seo Tae-woong</td>\n",
       "      <td>Buk San High</td>\n",
       "      <td>187</td>\n",
       "      <td>40</td>\n",
       "      <td>60</td>\n",
       "      <td>70</td>\n",
       "      <td>75</td>\n",
       "      <td>80</td>\n",
       "      <td>NaN</td>\n",
       "    </tr>\n",
       "    <tr>\n",
       "      <th>4</th>\n",
       "      <td>5</td>\n",
       "      <td>Kang Baek-ho</td>\n",
       "      <td>Buk San High</td>\n",
       "      <td>188</td>\n",
       "      <td>15</td>\n",
       "      <td>20</td>\n",
       "      <td>10</td>\n",
       "      <td>35</td>\n",
       "      <td>10</td>\n",
       "      <td>NaN</td>\n",
       "    </tr>\n",
       "    <tr>\n",
       "      <th>5</th>\n",
       "      <td>6</td>\n",
       "      <td>Byun Deok-gyu</td>\n",
       "      <td>Neung Nam High</td>\n",
       "      <td>202</td>\n",
       "      <td>80</td>\n",
       "      <td>100</td>\n",
       "      <td>95</td>\n",
       "      <td>85</td>\n",
       "      <td>80</td>\n",
       "      <td>C</td>\n",
       "    </tr>\n",
       "    <tr>\n",
       "      <th>6</th>\n",
       "      <td>7</td>\n",
       "      <td>Hwang Tae-san</td>\n",
       "      <td>Neung Nam High</td>\n",
       "      <td>188</td>\n",
       "      <td>55</td>\n",
       "      <td>65</td>\n",
       "      <td>45</td>\n",
       "      <td>40</td>\n",
       "      <td>35</td>\n",
       "      <td>PYTHON</td>\n",
       "    </tr>\n",
       "    <tr>\n",
       "      <th>7</th>\n",
       "      <td>8</td>\n",
       "      <td>Yoon Dae-hyeop</td>\n",
       "      <td>Neung Nam High</td>\n",
       "      <td>190</td>\n",
       "      <td>100</td>\n",
       "      <td>85</td>\n",
       "      <td>90</td>\n",
       "      <td>95</td>\n",
       "      <td>95</td>\n",
       "      <td>C#</td>\n",
       "    </tr>\n",
       "  </tbody>\n",
       "</table>\n",
       "</div>"
      ]
     },
     "execution_count": 1,
     "metadata": {},
     "output_type": "execute_result"
    }
   ],
   "execution_count": 1
  },
  {
   "metadata": {},
   "cell_type": "markdown",
   "source": "# column",
   "id": "7d4fa23a49bcae40"
  },
  {
   "metadata": {
    "ExecuteTime": {
     "end_time": "2024-07-14T01:18:31.325752Z",
     "start_time": "2024-07-14T01:18:31.321736Z"
    }
   },
   "cell_type": "code",
   "source": "df[\"Name\"]",
   "id": "7a334489eed4c4a5",
   "outputs": [
    {
     "data": {
      "text/plain": [
       "0       Cha Chi-soo\n",
       "1      Jung Dae-man\n",
       "2     Song Tae-seop\n",
       "3     Seo Tae-woong\n",
       "4      Kang Baek-ho\n",
       "5     Byun Deok-gyu\n",
       "6     Hwang Tae-san\n",
       "7    Yoon Dae-hyeop\n",
       "Name: Name, dtype: object"
      ]
     },
     "execution_count": 2,
     "metadata": {},
     "output_type": "execute_result"
    }
   ],
   "execution_count": 2
  },
  {
   "metadata": {
    "ExecuteTime": {
     "end_time": "2024-07-14T01:19:01.258343Z",
     "start_time": "2024-07-14T01:19:01.254586Z"
    }
   },
   "cell_type": "code",
   "source": "df[[\"Name\", \"Height\"]]",
   "id": "ffe8c83d285e470c",
   "outputs": [
    {
     "data": {
      "text/plain": [
       "             Name  Height\n",
       "0     Cha Chi-soo     197\n",
       "1    Jung Dae-man     184\n",
       "2   Song Tae-seop     168\n",
       "3   Seo Tae-woong     187\n",
       "4    Kang Baek-ho     188\n",
       "5   Byun Deok-gyu     202\n",
       "6   Hwang Tae-san     188\n",
       "7  Yoon Dae-hyeop     190"
      ],
      "text/html": [
       "<div>\n",
       "<style scoped>\n",
       "    .dataframe tbody tr th:only-of-type {\n",
       "        vertical-align: middle;\n",
       "    }\n",
       "\n",
       "    .dataframe tbody tr th {\n",
       "        vertical-align: top;\n",
       "    }\n",
       "\n",
       "    .dataframe thead th {\n",
       "        text-align: right;\n",
       "    }\n",
       "</style>\n",
       "<table border=\"1\" class=\"dataframe\">\n",
       "  <thead>\n",
       "    <tr style=\"text-align: right;\">\n",
       "      <th></th>\n",
       "      <th>Name</th>\n",
       "      <th>Height</th>\n",
       "    </tr>\n",
       "  </thead>\n",
       "  <tbody>\n",
       "    <tr>\n",
       "      <th>0</th>\n",
       "      <td>Cha Chi-soo</td>\n",
       "      <td>197</td>\n",
       "    </tr>\n",
       "    <tr>\n",
       "      <th>1</th>\n",
       "      <td>Jung Dae-man</td>\n",
       "      <td>184</td>\n",
       "    </tr>\n",
       "    <tr>\n",
       "      <th>2</th>\n",
       "      <td>Song Tae-seop</td>\n",
       "      <td>168</td>\n",
       "    </tr>\n",
       "    <tr>\n",
       "      <th>3</th>\n",
       "      <td>Seo Tae-woong</td>\n",
       "      <td>187</td>\n",
       "    </tr>\n",
       "    <tr>\n",
       "      <th>4</th>\n",
       "      <td>Kang Baek-ho</td>\n",
       "      <td>188</td>\n",
       "    </tr>\n",
       "    <tr>\n",
       "      <th>5</th>\n",
       "      <td>Byun Deok-gyu</td>\n",
       "      <td>202</td>\n",
       "    </tr>\n",
       "    <tr>\n",
       "      <th>6</th>\n",
       "      <td>Hwang Tae-san</td>\n",
       "      <td>188</td>\n",
       "    </tr>\n",
       "    <tr>\n",
       "      <th>7</th>\n",
       "      <td>Yoon Dae-hyeop</td>\n",
       "      <td>190</td>\n",
       "    </tr>\n",
       "  </tbody>\n",
       "</table>\n",
       "</div>"
      ]
     },
     "execution_count": 4,
     "metadata": {},
     "output_type": "execute_result"
    }
   ],
   "execution_count": 4
  },
  {
   "metadata": {
    "ExecuteTime": {
     "end_time": "2024-07-14T01:19:27.728903Z",
     "start_time": "2024-07-14T01:19:27.725473Z"
    }
   },
   "cell_type": "code",
   "source": "df.set_index(\"number\", inplace=True)",
   "id": "97fbeb0e2fe95838",
   "outputs": [],
   "execution_count": 5
  },
  {
   "metadata": {
    "ExecuteTime": {
     "end_time": "2024-07-14T01:19:35.081296Z",
     "start_time": "2024-07-14T01:19:35.078839Z"
    }
   },
   "cell_type": "code",
   "source": "df.columns[0]",
   "id": "634583eb3cee9d12",
   "outputs": [
    {
     "data": {
      "text/plain": [
       "'Name'"
      ]
     },
     "execution_count": 6,
     "metadata": {},
     "output_type": "execute_result"
    }
   ],
   "execution_count": 6
  },
  {
   "metadata": {
    "ExecuteTime": {
     "end_time": "2024-07-14T01:20:05.246038Z",
     "start_time": "2024-07-14T01:20:05.243232Z"
    }
   },
   "cell_type": "code",
   "source": "df.columns[0]",
   "id": "299621aead6f23e1",
   "outputs": [
    {
     "data": {
      "text/plain": [
       "'Name'"
      ]
     },
     "execution_count": 7,
     "metadata": {},
     "output_type": "execute_result"
    }
   ],
   "execution_count": 7
  },
  {
   "metadata": {
    "ExecuteTime": {
     "end_time": "2024-07-14T01:20:20.955575Z",
     "start_time": "2024-07-14T01:20:20.951253Z"
    }
   },
   "cell_type": "code",
   "source": "df[df.columns[0]]",
   "id": "30db4d9ce887653c",
   "outputs": [
    {
     "data": {
      "text/plain": [
       "number\n",
       "1       Cha Chi-soo\n",
       "2      Jung Dae-man\n",
       "3     Song Tae-seop\n",
       "4     Seo Tae-woong\n",
       "5      Kang Baek-ho\n",
       "6     Byun Deok-gyu\n",
       "7     Hwang Tae-san\n",
       "8    Yoon Dae-hyeop\n",
       "Name: Name, dtype: object"
      ]
     },
     "execution_count": 8,
     "metadata": {},
     "output_type": "execute_result"
    }
   ],
   "execution_count": 8
  },
  {
   "metadata": {
    "ExecuteTime": {
     "end_time": "2024-07-14T01:22:56.541778Z",
     "start_time": "2024-07-14T01:22:56.538134Z"
    }
   },
   "cell_type": "code",
   "source": "df[:][3:4]",
   "id": "ba68972b95c1573f",
   "outputs": [
    {
     "data": {
      "text/plain": [
       "                 Name        School  Height  Korean  English  Math  Science  \\\n",
       "number                                                                        \n",
       "4       Seo Tae-woong  Buk San High     187      40       60    70       75   \n",
       "\n",
       "        Social SW Skill  \n",
       "number                   \n",
       "4           80      NaN  "
      ],
      "text/html": [
       "<div>\n",
       "<style scoped>\n",
       "    .dataframe tbody tr th:only-of-type {\n",
       "        vertical-align: middle;\n",
       "    }\n",
       "\n",
       "    .dataframe tbody tr th {\n",
       "        vertical-align: top;\n",
       "    }\n",
       "\n",
       "    .dataframe thead th {\n",
       "        text-align: right;\n",
       "    }\n",
       "</style>\n",
       "<table border=\"1\" class=\"dataframe\">\n",
       "  <thead>\n",
       "    <tr style=\"text-align: right;\">\n",
       "      <th></th>\n",
       "      <th>Name</th>\n",
       "      <th>School</th>\n",
       "      <th>Height</th>\n",
       "      <th>Korean</th>\n",
       "      <th>English</th>\n",
       "      <th>Math</th>\n",
       "      <th>Science</th>\n",
       "      <th>Social</th>\n",
       "      <th>SW Skill</th>\n",
       "    </tr>\n",
       "    <tr>\n",
       "      <th>number</th>\n",
       "      <th></th>\n",
       "      <th></th>\n",
       "      <th></th>\n",
       "      <th></th>\n",
       "      <th></th>\n",
       "      <th></th>\n",
       "      <th></th>\n",
       "      <th></th>\n",
       "      <th></th>\n",
       "    </tr>\n",
       "  </thead>\n",
       "  <tbody>\n",
       "    <tr>\n",
       "      <th>4</th>\n",
       "      <td>Seo Tae-woong</td>\n",
       "      <td>Buk San High</td>\n",
       "      <td>187</td>\n",
       "      <td>40</td>\n",
       "      <td>60</td>\n",
       "      <td>70</td>\n",
       "      <td>75</td>\n",
       "      <td>80</td>\n",
       "      <td>NaN</td>\n",
       "    </tr>\n",
       "  </tbody>\n",
       "</table>\n",
       "</div>"
      ]
     },
     "execution_count": 16,
     "metadata": {},
     "output_type": "execute_result"
    }
   ],
   "execution_count": 16
  },
  {
   "metadata": {
    "ExecuteTime": {
     "end_time": "2024-07-14T01:23:03.693741Z",
     "start_time": "2024-07-14T01:23:03.687557Z"
    }
   },
   "cell_type": "code",
   "source": "df[3:4]",
   "id": "2911257ed3c7e88d",
   "outputs": [
    {
     "data": {
      "text/plain": [
       "                 Name        School  Height  Korean  English  Math  Science  \\\n",
       "number                                                                        \n",
       "4       Seo Tae-woong  Buk San High     187      40       60    70       75   \n",
       "\n",
       "        Social SW Skill  \n",
       "number                   \n",
       "4           80      NaN  "
      ],
      "text/html": [
       "<div>\n",
       "<style scoped>\n",
       "    .dataframe tbody tr th:only-of-type {\n",
       "        vertical-align: middle;\n",
       "    }\n",
       "\n",
       "    .dataframe tbody tr th {\n",
       "        vertical-align: top;\n",
       "    }\n",
       "\n",
       "    .dataframe thead th {\n",
       "        text-align: right;\n",
       "    }\n",
       "</style>\n",
       "<table border=\"1\" class=\"dataframe\">\n",
       "  <thead>\n",
       "    <tr style=\"text-align: right;\">\n",
       "      <th></th>\n",
       "      <th>Name</th>\n",
       "      <th>School</th>\n",
       "      <th>Height</th>\n",
       "      <th>Korean</th>\n",
       "      <th>English</th>\n",
       "      <th>Math</th>\n",
       "      <th>Science</th>\n",
       "      <th>Social</th>\n",
       "      <th>SW Skill</th>\n",
       "    </tr>\n",
       "    <tr>\n",
       "      <th>number</th>\n",
       "      <th></th>\n",
       "      <th></th>\n",
       "      <th></th>\n",
       "      <th></th>\n",
       "      <th></th>\n",
       "      <th></th>\n",
       "      <th></th>\n",
       "      <th></th>\n",
       "      <th></th>\n",
       "    </tr>\n",
       "  </thead>\n",
       "  <tbody>\n",
       "    <tr>\n",
       "      <th>4</th>\n",
       "      <td>Seo Tae-woong</td>\n",
       "      <td>Buk San High</td>\n",
       "      <td>187</td>\n",
       "      <td>40</td>\n",
       "      <td>60</td>\n",
       "      <td>70</td>\n",
       "      <td>75</td>\n",
       "      <td>80</td>\n",
       "      <td>NaN</td>\n",
       "    </tr>\n",
       "  </tbody>\n",
       "</table>\n",
       "</div>"
      ]
     },
     "execution_count": 17,
     "metadata": {},
     "output_type": "execute_result"
    }
   ],
   "execution_count": 17
  },
  {
   "metadata": {},
   "cell_type": "code",
   "outputs": [],
   "execution_count": null,
   "source": "",
   "id": "3c158a67e834f209"
  }
 ],
 "metadata": {
  "kernelspec": {
   "display_name": "Python 3",
   "language": "python",
   "name": "python3"
  },
  "language_info": {
   "codemirror_mode": {
    "name": "ipython",
    "version": 2
   },
   "file_extension": ".py",
   "mimetype": "text/x-python",
   "name": "python",
   "nbconvert_exporter": "python",
   "pygments_lexer": "ipython2",
   "version": "2.7.6"
  }
 },
 "nbformat": 4,
 "nbformat_minor": 5
}
