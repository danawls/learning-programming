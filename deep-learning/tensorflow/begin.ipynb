{
 "cells": [
  {
   "cell_type": "code",
   "id": "initial_id",
   "metadata": {
    "collapsed": true,
    "ExecuteTime": {
     "end_time": "2024-07-29T08:39:51.118799Z",
     "start_time": "2024-07-29T08:39:49.593404Z"
    }
   },
   "source": [
    "import tensorflow as tf\n",
    "print(\"TensorFlow version:\", tf.__version__)"
   ],
   "outputs": [
    {
     "name": "stdout",
     "output_type": "stream",
     "text": [
      "TensorFlow version: 2.17.0\n"
     ]
    }
   ],
   "execution_count": 1
  },
  {
   "metadata": {
    "ExecuteTime": {
     "end_time": "2024-07-29T08:58:16.282113Z",
     "start_time": "2024-07-29T08:58:16.104501Z"
    }
   },
   "cell_type": "code",
   "source": [
    "mnist = tf.keras.datasets.mnist\n",
    "\n",
    "(x_train, y_train), (x_test, y_test) = mnist.load_data()\n",
    "x_train, x_test = x_train / 255.0, x_test / 255.0"
   ],
   "id": "5fa21c06da8289f6",
   "outputs": [],
   "execution_count": 13
  },
  {
   "metadata": {
    "ExecuteTime": {
     "end_time": "2024-07-29T08:58:23.005590Z",
     "start_time": "2024-07-29T08:58:22.991846Z"
    }
   },
   "cell_type": "code",
   "source": [
    "model = tf.keras.models.Sequential([\n",
    "  tf.keras.layers.Flatten(input_shape=(28, 28)),\n",
    "  tf.keras.layers.Dense(128, activation='relu'),\n",
    "  tf.keras.layers.Dropout(0.2),\n",
    "  tf.keras.layers.Dense(10)\n",
    "])"
   ],
   "id": "c285add5b7752f74",
   "outputs": [],
   "execution_count": 16
  },
  {
   "metadata": {
    "ExecuteTime": {
     "end_time": "2024-07-29T08:58:23.372347Z",
     "start_time": "2024-07-29T08:58:23.368077Z"
    }
   },
   "cell_type": "code",
   "source": [
    "predictions = model(x_train[:1]).numpy()\n",
    "predictions"
   ],
   "id": "a50ac0b20252df31",
   "outputs": [
    {
     "data": {
      "text/plain": [
       "array([[-0.14667332,  0.3020472 ,  0.22567256,  0.23997143,  0.47358346,\n",
       "         0.5525814 , -0.655051  ,  0.49125314,  0.3562298 , -1.4031763 ]],\n",
       "      dtype=float32)"
      ]
     },
     "execution_count": 17,
     "metadata": {},
     "output_type": "execute_result"
    }
   ],
   "execution_count": 17
  },
  {
   "metadata": {
    "ExecuteTime": {
     "end_time": "2024-07-29T08:58:23.972508Z",
     "start_time": "2024-07-29T08:58:23.968965Z"
    }
   },
   "cell_type": "code",
   "source": "tf.nn.softmax(predictions).numpy()",
   "id": "2dc4973c4b20c3dc",
   "outputs": [
    {
     "data": {
      "text/plain": [
       "array([[0.07249887, 0.11355547, 0.10520563, 0.10672076, 0.1348048 ,\n",
       "        0.14588603, 0.04360593, 0.13720793, 0.11987794, 0.02063664]],\n",
       "      dtype=float32)"
      ]
     },
     "execution_count": 18,
     "metadata": {},
     "output_type": "execute_result"
    }
   ],
   "execution_count": 18
  },
  {
   "metadata": {
    "ExecuteTime": {
     "end_time": "2024-07-29T08:58:24.887169Z",
     "start_time": "2024-07-29T08:58:24.884330Z"
    }
   },
   "cell_type": "code",
   "source": "loss_fn = tf.keras.losses.SparseCategoricalCrossentropy(from_logits=True)",
   "id": "226434564ed99638",
   "outputs": [],
   "execution_count": 19
  },
  {
   "metadata": {
    "ExecuteTime": {
     "end_time": "2024-07-29T08:58:25.276497Z",
     "start_time": "2024-07-29T08:58:25.271190Z"
    }
   },
   "cell_type": "code",
   "source": "model.compile(optimizer='adam', loss=loss_fn, metrics=['accuracy'])",
   "id": "db68655b5baf73e5",
   "outputs": [],
   "execution_count": 20
  },
  {
   "metadata": {
    "ExecuteTime": {
     "end_time": "2024-07-29T09:00:41.034029Z",
     "start_time": "2024-07-29T09:00:27.381778Z"
    }
   },
   "cell_type": "code",
   "source": "model.fit(x_train, y_train, epochs=10)",
   "id": "8280ec62efef727f",
   "outputs": [
    {
     "name": "stdout",
     "output_type": "stream",
     "text": [
      "Epoch 1/10\n",
      "\u001B[1m1875/1875\u001B[0m \u001B[32m━━━━━━━━━━━━━━━━━━━━\u001B[0m\u001B[37m\u001B[0m \u001B[1m1s\u001B[0m 702us/step - accuracy: 0.9896 - loss: 0.0311\n",
      "Epoch 2/10\n",
      "\u001B[1m1875/1875\u001B[0m \u001B[32m━━━━━━━━━━━━━━━━━━━━\u001B[0m\u001B[37m\u001B[0m \u001B[1m1s\u001B[0m 724us/step - accuracy: 0.9905 - loss: 0.0266\n",
      "Epoch 3/10\n",
      "\u001B[1m1875/1875\u001B[0m \u001B[32m━━━━━━━━━━━━━━━━━━━━\u001B[0m\u001B[37m\u001B[0m \u001B[1m1s\u001B[0m 716us/step - accuracy: 0.9904 - loss: 0.0280\n",
      "Epoch 4/10\n",
      "\u001B[1m1875/1875\u001B[0m \u001B[32m━━━━━━━━━━━━━━━━━━━━\u001B[0m\u001B[37m\u001B[0m \u001B[1m1s\u001B[0m 727us/step - accuracy: 0.9910 - loss: 0.0275\n",
      "Epoch 5/10\n",
      "\u001B[1m1875/1875\u001B[0m \u001B[32m━━━━━━━━━━━━━━━━━━━━\u001B[0m\u001B[37m\u001B[0m \u001B[1m1s\u001B[0m 709us/step - accuracy: 0.9922 - loss: 0.0234\n",
      "Epoch 6/10\n",
      "\u001B[1m1875/1875\u001B[0m \u001B[32m━━━━━━━━━━━━━━━━━━━━\u001B[0m\u001B[37m\u001B[0m \u001B[1m1s\u001B[0m 709us/step - accuracy: 0.9919 - loss: 0.0235\n",
      "Epoch 7/10\n",
      "\u001B[1m1875/1875\u001B[0m \u001B[32m━━━━━━━━━━━━━━━━━━━━\u001B[0m\u001B[37m\u001B[0m \u001B[1m1s\u001B[0m 722us/step - accuracy: 0.9915 - loss: 0.0234\n",
      "Epoch 8/10\n",
      "\u001B[1m1875/1875\u001B[0m \u001B[32m━━━━━━━━━━━━━━━━━━━━\u001B[0m\u001B[37m\u001B[0m \u001B[1m1s\u001B[0m 718us/step - accuracy: 0.9923 - loss: 0.0225\n",
      "Epoch 9/10\n",
      "\u001B[1m1875/1875\u001B[0m \u001B[32m━━━━━━━━━━━━━━━━━━━━\u001B[0m\u001B[37m\u001B[0m \u001B[1m1s\u001B[0m 745us/step - accuracy: 0.9915 - loss: 0.0234\n",
      "Epoch 10/10\n",
      "\u001B[1m1875/1875\u001B[0m \u001B[32m━━━━━━━━━━━━━━━━━━━━\u001B[0m\u001B[37m\u001B[0m \u001B[1m1s\u001B[0m 735us/step - accuracy: 0.9929 - loss: 0.0190\n"
     ]
    },
    {
     "data": {
      "text/plain": [
       "<keras.src.callbacks.history.History at 0x39948f170>"
      ]
     },
     "execution_count": 24,
     "metadata": {},
     "output_type": "execute_result"
    }
   ],
   "execution_count": 24
  },
  {
   "metadata": {
    "ExecuteTime": {
     "end_time": "2024-07-29T09:00:42.956419Z",
     "start_time": "2024-07-29T09:00:42.843495Z"
    }
   },
   "cell_type": "code",
   "source": "model.evaluate(x_test, y_test, verbose=2)",
   "id": "20c704a4cf1a4f23",
   "outputs": [
    {
     "name": "stdout",
     "output_type": "stream",
     "text": [
      "313/313 - 0s - 268us/step - accuracy: 0.9802 - loss: 0.0934\n"
     ]
    },
    {
     "data": {
      "text/plain": [
       "[0.09339553862810135, 0.9801999926567078]"
      ]
     },
     "execution_count": 25,
     "metadata": {},
     "output_type": "execute_result"
    }
   ],
   "execution_count": 25
  },
  {
   "metadata": {
    "ExecuteTime": {
     "end_time": "2024-07-29T09:02:48.872997Z",
     "start_time": "2024-07-29T09:02:48.869227Z"
    }
   },
   "cell_type": "code",
   "source": [
    "probability_model = tf.keras.Sequential([\n",
    "    model,\n",
    "    tf.keras.layers.Softmax()\n",
    "])"
   ],
   "id": "92393ea3e9bd874f",
   "outputs": [],
   "execution_count": 30
  },
  {
   "metadata": {
    "ExecuteTime": {
     "end_time": "2024-07-29T09:03:02.291113Z",
     "start_time": "2024-07-29T09:03:02.281802Z"
    }
   },
   "cell_type": "code",
   "source": "probability_model(x_test[:5])",
   "id": "725f0a97aadc57a6",
   "outputs": [
    {
     "data": {
      "text/plain": [
       "<tf.Tensor: shape=(5, 10), dtype=float32, numpy=\n",
       "array([[6.86969199e-13, 8.86452405e-17, 7.20113726e-12, 5.29642705e-07,\n",
       "        1.27802085e-17, 2.10999075e-14, 2.67110010e-19, 9.99998093e-01,\n",
       "        1.91310379e-12, 1.44956061e-06],\n",
       "       [2.21026230e-20, 2.40763989e-11, 1.00000000e+00, 1.08306137e-12,\n",
       "        1.57607484e-29, 4.13170149e-12, 1.20613296e-16, 6.35980962e-30,\n",
       "        5.76747804e-16, 6.74133210e-28],\n",
       "       [1.36654065e-11, 9.99986410e-01, 1.52257951e-06, 3.71635944e-10,\n",
       "        3.22339311e-08, 1.54998861e-11, 1.79723147e-09, 9.91540765e-06,\n",
       "        2.20530842e-06, 8.50924759e-14],\n",
       "       [1.00000000e+00, 1.88329918e-17, 1.06817142e-08, 9.22576970e-14,\n",
       "        3.68091593e-15, 1.71646690e-11, 1.13014190e-11, 4.64094985e-09,\n",
       "        4.51398003e-15, 2.44061216e-10],\n",
       "       [2.25335393e-11, 2.14100812e-17, 2.00149164e-12, 8.27151221e-15,\n",
       "        9.99387622e-01, 8.89320935e-17, 7.81834320e-11, 6.04509864e-07,\n",
       "        2.05025246e-13, 6.11720490e-04]], dtype=float32)>"
      ]
     },
     "execution_count": 31,
     "metadata": {},
     "output_type": "execute_result"
    }
   ],
   "execution_count": 31
  },
  {
   "metadata": {
    "ExecuteTime": {
     "end_time": "2024-07-29T09:06:19.363535Z",
     "start_time": "2024-07-29T09:06:19.360349Z"
    }
   },
   "cell_type": "code",
   "source": [
    "import numpy as np\n",
    "\n",
    "def get_result_model(probability_array):\n",
    "    return np.max(probability_array.numpy(), axis=1, keepdims=True)"
   ],
   "id": "98540edd6f408f4c",
   "outputs": [],
   "execution_count": 33
  },
  {
   "metadata": {
    "ExecuteTime": {
     "end_time": "2024-07-29T09:07:25.922042Z",
     "start_time": "2024-07-29T09:07:25.917803Z"
    }
   },
   "cell_type": "code",
   "source": "get_result_model(probability_model(x_test[:5]))",
   "id": "71996737ae48c5d4",
   "outputs": [
    {
     "data": {
      "text/plain": [
       "array([[0.9999981],\n",
       "       [1.       ],\n",
       "       [0.9999864],\n",
       "       [1.       ],\n",
       "       [0.9993876]], dtype=float32)"
      ]
     },
     "execution_count": 36,
     "metadata": {},
     "output_type": "execute_result"
    }
   ],
   "execution_count": 36
  },
  {
   "metadata": {},
   "cell_type": "code",
   "outputs": [],
   "execution_count": null,
   "source": "",
   "id": "8b460c17ea16148e"
  }
 ],
 "metadata": {
  "kernelspec": {
   "display_name": "Python 3",
   "language": "python",
   "name": "python3"
  },
  "language_info": {
   "codemirror_mode": {
    "name": "ipython",
    "version": 2
   },
   "file_extension": ".py",
   "mimetype": "text/x-python",
   "name": "python",
   "nbconvert_exporter": "python",
   "pygments_lexer": "ipython2",
   "version": "2.7.6"
  }
 },
 "nbformat": 4,
 "nbformat_minor": 5
}
