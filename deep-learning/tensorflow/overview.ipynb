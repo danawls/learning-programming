{
 "cells": [
  {
   "cell_type": "code",
   "id": "initial_id",
   "metadata": {
    "collapsed": true,
    "ExecuteTime": {
     "end_time": "2024-07-29T08:28:08.070883Z",
     "start_time": "2024-07-29T08:28:08.067653Z"
    }
   },
   "source": [
    "import tensorflow as tf\n",
    "\n",
    "x = tf.constant([[1, 2, 3], [4, 5, 6]])\n",
    "\n",
    "x"
   ],
   "outputs": [
    {
     "data": {
      "text/plain": [
       "<tf.Tensor: shape=(2, 3), dtype=int32, numpy=\n",
       "array([[1, 2, 3],\n",
       "       [4, 5, 6]], dtype=int32)>"
      ]
     },
     "execution_count": 3,
     "metadata": {},
     "output_type": "execute_result"
    }
   ],
   "execution_count": 3
  },
  {
   "metadata": {
    "ExecuteTime": {
     "end_time": "2024-07-29T08:29:10.803144Z",
     "start_time": "2024-07-29T08:29:10.797527Z"
    }
   },
   "cell_type": "code",
   "source": "x @ tf.transpose(x)",
   "id": "86f7d3db4efca686",
   "outputs": [
    {
     "data": {
      "text/plain": [
       "<tf.Tensor: shape=(2, 2), dtype=int32, numpy=\n",
       "array([[14, 32],\n",
       "       [32, 77]], dtype=int32)>"
      ]
     },
     "execution_count": 5,
     "metadata": {},
     "output_type": "execute_result"
    }
   ],
   "execution_count": 5
  },
  {
   "metadata": {},
   "cell_type": "markdown",
   "source": "# tf variable",
   "id": "a44e7f46ec7217a5"
  },
  {
   "metadata": {
    "ExecuteTime": {
     "end_time": "2024-07-29T08:31:22.518387Z",
     "start_time": "2024-07-29T08:31:22.511702Z"
    }
   },
   "cell_type": "code",
   "source": [
    "var = tf.Variable([[1, 1, 1], [2, 2, 2], [3, 3, 3]])\n",
    "\n",
    "var"
   ],
   "id": "b3ae57291ec7be34",
   "outputs": [
    {
     "data": {
      "text/plain": [
       "<tf.Variable 'Variable:0' shape=(3, 3) dtype=int32, numpy=\n",
       "array([[1, 1, 1],\n",
       "       [2, 2, 2],\n",
       "       [3, 3, 3]], dtype=int32)>"
      ]
     },
     "execution_count": 7,
     "metadata": {},
     "output_type": "execute_result"
    }
   ],
   "execution_count": 7
  },
  {
   "metadata": {},
   "cell_type": "code",
   "outputs": [],
   "execution_count": null,
   "source": "",
   "id": "5ada6a27104c6648"
  }
 ],
 "metadata": {
  "kernelspec": {
   "display_name": "Python 3",
   "language": "python",
   "name": "python3"
  },
  "language_info": {
   "codemirror_mode": {
    "name": "ipython",
    "version": 2
   },
   "file_extension": ".py",
   "mimetype": "text/x-python",
   "name": "python",
   "nbconvert_exporter": "python",
   "pygments_lexer": "ipython2",
   "version": "2.7.6"
  }
 },
 "nbformat": 4,
 "nbformat_minor": 5
}
