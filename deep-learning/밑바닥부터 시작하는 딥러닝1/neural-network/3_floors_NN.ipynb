{
 "cells": [
  {
   "cell_type": "code",
   "id": "initial_id",
   "metadata": {
    "collapsed": true,
    "ExecuteTime": {
     "end_time": "2024-07-22T09:44:06.184519Z",
     "start_time": "2024-07-22T09:44:06.109981Z"
    }
   },
   "source": "import numpy as np",
   "outputs": [],
   "execution_count": 1
  },
  {
   "metadata": {
    "ExecuteTime": {
     "end_time": "2024-07-22T09:45:18.563300Z",
     "start_time": "2024-07-22T09:45:18.551438Z"
    }
   },
   "cell_type": "code",
   "source": [
    "x = np.array([1.0, 0.5])\n",
    "w1 = np.array([[0.1, 0.3, 0.5], [0.2, 0.4, 0.6]])\n",
    "b1 = np.array([0.1, 0.2, 0.3])"
   ],
   "id": "aee421334ee045a8",
   "outputs": [],
   "execution_count": 2
  },
  {
   "metadata": {
    "ExecuteTime": {
     "end_time": "2024-07-22T09:45:29.715726Z",
     "start_time": "2024-07-22T09:45:29.702918Z"
    }
   },
   "cell_type": "code",
   "source": [
    "a1 = np.dot(x, w1)\n",
    "a1"
   ],
   "id": "5e8978f547d40ad7",
   "outputs": [
    {
     "data": {
      "text/plain": [
       "array([0.2, 0.5, 0.8])"
      ]
     },
     "execution_count": 3,
     "metadata": {},
     "output_type": "execute_result"
    }
   ],
   "execution_count": 3
  },
  {
   "metadata": {
    "ExecuteTime": {
     "end_time": "2024-07-22T09:46:06.107796Z",
     "start_time": "2024-07-22T09:46:06.101815Z"
    }
   },
   "cell_type": "code",
   "source": [
    "def sigmoid(x):\n",
    "    return 1 / (1 + np.exp(-x))"
   ],
   "id": "e05fdc1551aa9db5",
   "outputs": [],
   "execution_count": 4
  },
  {
   "metadata": {
    "ExecuteTime": {
     "end_time": "2024-07-22T09:46:15.374754Z",
     "start_time": "2024-07-22T09:46:15.362777Z"
    }
   },
   "cell_type": "code",
   "source": [
    "z1 = sigmoid(a1)\n",
    "z1"
   ],
   "id": "e2716b53af76a952",
   "outputs": [
    {
     "data": {
      "text/plain": [
       "array([0.549834  , 0.62245933, 0.68997448])"
      ]
     },
     "execution_count": 5,
     "metadata": {},
     "output_type": "execute_result"
    }
   ],
   "execution_count": 5
  },
  {
   "metadata": {
    "ExecuteTime": {
     "end_time": "2024-07-22T09:47:31.394734Z",
     "start_time": "2024-07-22T09:47:31.390837Z"
    }
   },
   "cell_type": "code",
   "source": "w2 = np.array([[0.1, 0.4], [0.2, 0.5], [0.3, 0.6]])",
   "id": "a0c85ce8727eb8b3",
   "outputs": [],
   "execution_count": 6
  },
  {
   "metadata": {
    "ExecuteTime": {
     "end_time": "2024-07-22T09:48:13.412737Z",
     "start_time": "2024-07-22T09:48:13.406382Z"
    }
   },
   "cell_type": "code",
   "source": "b2 = np.array([0.1, 0.2])",
   "id": "8a13a78fad6712d4",
   "outputs": [],
   "execution_count": 7
  },
  {
   "metadata": {
    "ExecuteTime": {
     "end_time": "2024-07-22T09:48:40.695581Z",
     "start_time": "2024-07-22T09:48:40.682268Z"
    }
   },
   "cell_type": "code",
   "source": [
    "a2 = np.dot(z1, w2) + b2\n",
    "z2 = sigmoid(a2)"
   ],
   "id": "190c8665c7c8af58",
   "outputs": [],
   "execution_count": 8
  },
  {
   "metadata": {
    "ExecuteTime": {
     "end_time": "2024-07-22T09:49:17.493204Z",
     "start_time": "2024-07-22T09:49:17.487478Z"
    }
   },
   "cell_type": "code",
   "source": [
    "def identity_function(x):\n",
    "    return x"
   ],
   "id": "d562f6e494f358b2",
   "outputs": [],
   "execution_count": 9
  },
  {
   "metadata": {
    "ExecuteTime": {
     "end_time": "2024-07-22T09:49:54.436287Z",
     "start_time": "2024-07-22T09:49:54.431639Z"
    }
   },
   "cell_type": "code",
   "source": [
    "w3 = np.array([[0.1, 0.3], [0.2, 0.4]])\n",
    "b3 = np.array([0.1, 0.2])"
   ],
   "id": "6781c53e1c277c0d",
   "outputs": [],
   "execution_count": 10
  },
  {
   "metadata": {
    "ExecuteTime": {
     "end_time": "2024-07-22T09:50:28.611966Z",
     "start_time": "2024-07-22T09:50:28.606654Z"
    }
   },
   "cell_type": "code",
   "source": [
    "a3 = np.dot(z2, w3) + b3\n",
    "y = identity_function(a3)"
   ],
   "id": "a5e7d8e9c10f9a1d",
   "outputs": [],
   "execution_count": 11
  },
  {
   "metadata": {
    "ExecuteTime": {
     "end_time": "2024-07-22T09:51:38.993179Z",
     "start_time": "2024-07-22T09:51:38.988498Z"
    }
   },
   "cell_type": "code",
   "source": "y",
   "id": "47990cb0b9b9cf68",
   "outputs": [
    {
     "data": {
      "text/plain": [
       "array([0.3136521, 0.6892316])"
      ]
     },
     "execution_count": 12,
     "metadata": {},
     "output_type": "execute_result"
    }
   ],
   "execution_count": 12
  },
  {
   "metadata": {},
   "cell_type": "code",
   "outputs": [],
   "execution_count": null,
   "source": "",
   "id": "fecaf0c3e7da6705"
  }
 ],
 "metadata": {
  "kernelspec": {
   "display_name": "Python 3",
   "language": "python",
   "name": "python3"
  },
  "language_info": {
   "codemirror_mode": {
    "name": "ipython",
    "version": 2
   },
   "file_extension": ".py",
   "mimetype": "text/x-python",
   "name": "python",
   "nbconvert_exporter": "python",
   "pygments_lexer": "ipython2",
   "version": "2.7.6"
  }
 },
 "nbformat": 4,
 "nbformat_minor": 5
}
