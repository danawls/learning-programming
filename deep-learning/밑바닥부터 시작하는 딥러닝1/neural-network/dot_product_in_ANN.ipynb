{
 "cells": [
  {
   "cell_type": "code",
   "id": "initial_id",
   "metadata": {
    "collapsed": true,
    "ExecuteTime": {
     "end_time": "2024-07-22T09:38:39.005156Z",
     "start_time": "2024-07-22T09:38:38.961710Z"
    }
   },
   "source": "import numpy as np",
   "outputs": [],
   "execution_count": 1
  },
  {
   "metadata": {
    "ExecuteTime": {
     "end_time": "2024-07-22T09:38:48.385130Z",
     "start_time": "2024-07-22T09:38:48.381271Z"
    }
   },
   "cell_type": "code",
   "source": "x = np.array([1, 2])",
   "id": "2e7831f58abab20f",
   "outputs": [],
   "execution_count": 2
  },
  {
   "metadata": {
    "ExecuteTime": {
     "end_time": "2024-07-22T09:39:02.254789Z",
     "start_time": "2024-07-22T09:39:02.248011Z"
    }
   },
   "cell_type": "code",
   "source": "w = np.array([[1, 3, 5], [2, 4, 6]])",
   "id": "9a1547664dc64a9d",
   "outputs": [],
   "execution_count": 3
  },
  {
   "metadata": {
    "ExecuteTime": {
     "end_time": "2024-07-22T09:39:13.605629Z",
     "start_time": "2024-07-22T09:39:13.600009Z"
    }
   },
   "cell_type": "code",
   "source": "y = np.dot(x, w)",
   "id": "3329b7d58c2d28cb",
   "outputs": [],
   "execution_count": 4
  },
  {
   "metadata": {
    "ExecuteTime": {
     "end_time": "2024-07-22T09:39:16.067327Z",
     "start_time": "2024-07-22T09:39:16.061108Z"
    }
   },
   "cell_type": "code",
   "source": "y",
   "id": "4d7d7cf429698d13",
   "outputs": [
    {
     "data": {
      "text/plain": [
       "array([ 5, 11, 17])"
      ]
     },
     "execution_count": 5,
     "metadata": {},
     "output_type": "execute_result"
    }
   ],
   "execution_count": 5
  },
  {
   "metadata": {},
   "cell_type": "code",
   "outputs": [],
   "execution_count": null,
   "source": "",
   "id": "5f2fb7c1d370e01f"
  }
 ],
 "metadata": {
  "kernelspec": {
   "display_name": "Python 3",
   "language": "python",
   "name": "python3"
  },
  "language_info": {
   "codemirror_mode": {
    "name": "ipython",
    "version": 2
   },
   "file_extension": ".py",
   "mimetype": "text/x-python",
   "name": "python",
   "nbconvert_exporter": "python",
   "pygments_lexer": "ipython2",
   "version": "2.7.6"
  }
 },
 "nbformat": 4,
 "nbformat_minor": 5
}
