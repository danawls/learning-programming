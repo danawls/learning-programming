{
 "cells": [
  {
   "metadata": {},
   "cell_type": "markdown",
   "source": "# 1 dimensional array",
   "id": "41a365ab40fdcb63"
  },
  {
   "metadata": {
    "ExecuteTime": {
     "end_time": "2024-07-22T09:34:06.154715Z",
     "start_time": "2024-07-22T09:34:06.111680Z"
    }
   },
   "cell_type": "code",
   "source": "import numpy as np",
   "id": "75e868aabd8b0183",
   "outputs": [],
   "execution_count": 1
  },
  {
   "metadata": {
    "ExecuteTime": {
     "end_time": "2024-07-22T09:34:23.878367Z",
     "start_time": "2024-07-22T09:34:23.858267Z"
    }
   },
   "cell_type": "code",
   "source": [
    "A = np.array([1, 2, 3, 4])\n",
    "np.ndim(A)"
   ],
   "id": "33358cc1275ddea6",
   "outputs": [
    {
     "data": {
      "text/plain": [
       "1"
      ]
     },
     "execution_count": 2,
     "metadata": {},
     "output_type": "execute_result"
    }
   ],
   "execution_count": 2
  },
  {
   "metadata": {
    "ExecuteTime": {
     "end_time": "2024-07-22T09:34:35.138168Z",
     "start_time": "2024-07-22T09:34:35.132639Z"
    }
   },
   "cell_type": "code",
   "source": "A.shape[0]",
   "id": "adc7ddfd1e1cb4cb",
   "outputs": [
    {
     "data": {
      "text/plain": [
       "4"
      ]
     },
     "execution_count": 4,
     "metadata": {},
     "output_type": "execute_result"
    }
   ],
   "execution_count": 4
  },
  {
   "metadata": {},
   "cell_type": "markdown",
   "source": "# 2 dimensional array",
   "id": "a7591a4df45f27cf"
  },
  {
   "metadata": {
    "ExecuteTime": {
     "end_time": "2024-07-22T09:35:46.424268Z",
     "start_time": "2024-07-22T09:35:46.419887Z"
    }
   },
   "cell_type": "code",
   "source": "B = np.array([[1, 2], [3, 4], [5, 6]])",
   "id": "382e70d5bfc76c3a",
   "outputs": [],
   "execution_count": 5
  },
  {
   "metadata": {
    "ExecuteTime": {
     "end_time": "2024-07-22T09:35:51.269138Z",
     "start_time": "2024-07-22T09:35:51.264413Z"
    }
   },
   "cell_type": "code",
   "source": "np.ndim(B)",
   "id": "194cbc4cc2d5714f",
   "outputs": [
    {
     "data": {
      "text/plain": [
       "2"
      ]
     },
     "execution_count": 6,
     "metadata": {},
     "output_type": "execute_result"
    }
   ],
   "execution_count": 6
  },
  {
   "metadata": {
    "ExecuteTime": {
     "end_time": "2024-07-22T09:35:55.184388Z",
     "start_time": "2024-07-22T09:35:55.180290Z"
    }
   },
   "cell_type": "code",
   "source": "B.shape",
   "id": "a35caf531edb1010",
   "outputs": [
    {
     "data": {
      "text/plain": [
       "(3, 2)"
      ]
     },
     "execution_count": 7,
     "metadata": {},
     "output_type": "execute_result"
    }
   ],
   "execution_count": 7
  },
  {
   "metadata": {},
   "cell_type": "markdown",
   "source": "# dot product",
   "id": "5a992f1749b702ee"
  },
  {
   "metadata": {
    "ExecuteTime": {
     "end_time": "2024-07-22T09:36:49.440001Z",
     "start_time": "2024-07-22T09:36:49.435149Z"
    }
   },
   "cell_type": "code",
   "source": "g = np.array([[[1, 2], [3, 4]]])",
   "id": "4712fd8dd3de3ac2",
   "outputs": [],
   "execution_count": 9
  },
  {
   "metadata": {
    "ExecuteTime": {
     "end_time": "2024-07-22T09:37:01.171511Z",
     "start_time": "2024-07-22T09:37:01.160999Z"
    }
   },
   "cell_type": "code",
   "source": "h = np.array([[5, 6], [7, 8]])",
   "id": "2aaf1851a58260d6",
   "outputs": [],
   "execution_count": 10
  },
  {
   "metadata": {
    "ExecuteTime": {
     "end_time": "2024-07-22T09:37:04.553971Z",
     "start_time": "2024-07-22T09:37:04.549698Z"
    }
   },
   "cell_type": "code",
   "source": "np.dot(g, h)",
   "id": "515aac8cc389bcea",
   "outputs": [
    {
     "data": {
      "text/plain": [
       "array([[[19, 22],\n",
       "        [43, 50]]])"
      ]
     },
     "execution_count": 11,
     "metadata": {},
     "output_type": "execute_result"
    }
   ],
   "execution_count": 11
  },
  {
   "metadata": {},
   "cell_type": "code",
   "outputs": [],
   "execution_count": null,
   "source": "",
   "id": "78b1fc0749df3923"
  }
 ],
 "metadata": {
  "kernelspec": {
   "display_name": "Python 3",
   "language": "python",
   "name": "python3"
  },
  "language_info": {
   "codemirror_mode": {
    "name": "ipython",
    "version": 2
   },
   "file_extension": ".py",
   "mimetype": "text/x-python",
   "name": "python",
   "nbconvert_exporter": "python",
   "pygments_lexer": "ipython2",
   "version": "2.7.6"
  }
 },
 "nbformat": 4,
 "nbformat_minor": 5
}
